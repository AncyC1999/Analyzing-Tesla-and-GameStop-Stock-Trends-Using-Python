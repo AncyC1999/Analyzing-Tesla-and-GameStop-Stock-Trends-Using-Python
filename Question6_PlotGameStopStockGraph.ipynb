#Question 6: Plot GameStop Stock Graph

#Use the make_graph function to graph the GameStop Stock Data, also provide a title for the graph.

#Upload a screenshot of your results.
import pandas as pd
import matplotlib.pyplot as plt

# Define make_graph function
def make_graph(data, x_column, y_column, title):
    plt.figure(figsize=(10, 6))
    plt.plot(data[x_column], data[y_column])
    plt.title(title)
    plt.xlabel(x_column)
    plt.ylabel(y_column)
    plt.xticks(rotation=45)
    plt.show()

# Plot GameStop Stock Graph
make_graph(gme_data, 'Date', 'Close', 'GameStop Stock Price')
